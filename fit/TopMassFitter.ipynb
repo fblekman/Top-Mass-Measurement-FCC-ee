{
 "cells": [
  {
   "cell_type": "code",
   "execution_count": 1,
   "metadata": {
    "collapsed": false
   },
   "outputs": [
    {
     "data": {
      "application/javascript": [
       "\n",
       "require(['notebook'],\n",
       "  function() {\n",
       "    IPython.CodeCell.config_defaults.highlight_modes['magic_text/x-c++src'] = {'reg':[/^%%cpp/]};\n",
       "    console.log(\"JupyROOT - %%cpp magic configured\");\n",
       "  }\n",
       ");\n"
      ]
     },
     "metadata": {},
     "output_type": "display_data"
    },
    {
     "name": "stdout",
     "output_type": "stream",
     "text": [
      "Welcome to JupyROOT 6.08/00\n"
     ]
    }
   ],
   "source": [
    "from ROOT import TGraph, TCanvas\n",
    "import numpy as np"
   ]
  },
  {
   "cell_type": "code",
   "execution_count": 2,
   "metadata": {
    "collapsed": true
   },
   "outputs": [],
   "source": [
    "class TopMassFitter(object):\n",
    "    \n",
    "    def __init__(self):\n",
    "        pass\n",
    "\n",
    "    def hard_coded_init(self):      \n",
    "        self.sqrts = [350, 352, 355]\n",
    "        self.luminosity = [100, 100, 100]\n",
    "        self.cross_section_rec = []\n",
    "        self.cross_section_rec_error = []\n",
    "        \n",
    "        self.m_top_true = 173.\n",
    "        \n",
    "        self.cross_section_true_list = [\n",
    "            (3.470000000000E+02,  1.008602903082E+02),\n",
    "            (3.498750000000E+02,  2.367545857837E+02),\n",
    "            (3.527500000000E+02,  3.122649468990E+02),\n",
    "            (3.556250000000E+02,  3.671992199176E+02),\n",
    "            (3.585000000000E+02,  4.104402307102E+02),\n",
    "            (3.613750000000E+02,  4.458379375163E+02),\n",
    "            (3.642500000000E+02,  4.752692084437E+02),\n",
    "            (3.671250000000E+02,  5.001898819994E+02),\n",
    "            (3.700000000000E+02,  5.213290208290E+02),\n",
    "            ]\n",
    "        \n",
    "        self.cross_section_true = TGraph()\n",
    "        self.masses = []\n",
    "        self.cross_section_shapes = [] #list of tgraph\n",
    "        self.chi2_scan = []\n",
    "        \n",
    "        self.chi2_scan_graph = TGraph()\n",
    "        self.chi2_scan_graph.SetNameTitle(\"g_chi2_scan\", \"g_chi2_scan\")\n",
    "        \n",
    "        for i, (sqrts, cs) in enumerate(self.cross_section_true_list):\n",
    "            self.cross_section_true.SetPoint(i, sqrts, cs)\n",
    "            \n",
    "        for sqrts, luminosity in zip(self.sqrts, self.luminosity):\n",
    "            aux_cs = float(self.cross_section_true.Eval(sqrts))\n",
    "            self.cross_section_rec.append(aux_cs)\n",
    "            aux_cs_error = np.sqrt(float(aux_cs) / luminosity)\n",
    "            self.cross_section_rec_error.append(aux_cs_error)\n",
    "            print aux_cs, aux_cs_error\n",
    "        \n",
    "\n",
    "        \n",
    "        self.masses = [170, 173, 176]\n",
    "        self.cross_section_shapes.append(TGraph())\n",
    "        self.cross_section_shapes.append(TGraph())\n",
    "        self.cross_section_shapes.append(TGraph())\n",
    "        \n",
    "        for i, (sqrts, cs) in enumerate(self.cross_section_true_list):\n",
    "            self.cross_section_shapes[0].SetPoint(i, sqrts, 0.992*cs)\n",
    "            self.cross_section_shapes[1].SetPoint(i, sqrts, cs)\n",
    "            self.cross_section_shapes[2].SetPoint(i, sqrts, 1.003*cs)\n",
    "            \n",
    "    def load_config(self):\n",
    "        pass\n",
    "        # config_file = open(config_filename, \"r\")\n",
    "    \n",
    "    def compute_chi2(self):\n",
    "        for i, (mass, cross_section_shape) in enumerate(zip(self.masses, self.cross_section_shapes)):\n",
    "            aux_chi2 = 0.\n",
    "            for (sqrts, cross_section, cross_section_error) in zip(self.sqrts, self.cross_section_rec, self.cross_section_rec_error):\n",
    "                aux_chi2 += ((cross_section - cross_section_shape.Eval(sqrts))/cross_section_error)**2\n",
    "            self.chi2_scan.append(aux_chi2)\n",
    "            print aux_chi2\n",
    "        \n",
    "            self.chi2_scan_graph.SetPoint(i, mass, aux_chi2)\n",
    "            \n",
    "            \n",
    "        self.chi2_scan_graph.canvas = TCanvas(\"c_chi2_scan_graph\", \"c_chi2_scan_graph\", 800, 600)\n",
    "        self.chi2_scan_graph.canvas.cd()        \n",
    "        self.chi2_scan_graph.Fit(\"pol2\")\n",
    "        self.fit_pol2 = self.chi2_scan_graph.GetFunction(\"pol2\")\n",
    "        self.chi2_scan_graph.Draw(\"ALP\")\n",
    "        self.chi2_scan_graph.canvas.Draw()\n",
    "    \n",
    "    def print_result(self):\n",
    "        mass = (-0.5) * self.fit_pol2.GetParameter(1) / self.fit_pol2.GetParameter(2)\n",
    "        err_mass = 1. / np.sqrt(self.fit_pol2.GetParameter(2))\n",
    "        print \"result: m = {} +/- {}\".format(mass, err_mass)"
   ]
  },
  {
   "cell_type": "code",
   "execution_count": 3,
   "metadata": {
    "collapsed": false
   },
   "outputs": [],
   "source": [
    "my_fit = TopMassFitter()"
   ]
  },
  {
   "cell_type": "code",
   "execution_count": 4,
   "metadata": {
    "collapsed": false
   },
   "outputs": [
    {
     "name": "stdout",
     "output_type": "stream",
     "text": [
      "240.037644963 1.54931483231\n",
      "292.566591825 1.71045780955\n",
      "355.256986653 1.88482621653\n"
     ]
    }
   ],
   "source": [
    "my_fit.hard_coded_init()"
   ]
  },
  {
   "cell_type": "code",
   "execution_count": 5,
   "metadata": {
    "collapsed": false
   },
   "outputs": [
    {
     "name": "stdout",
     "output_type": "stream",
     "text": [
      "5.68231183002\n",
      "0.0\n",
      "0.799075101097\n",
      "\n",
      "****************************************\n",
      "Minimizer is Linear\n",
      "Chi2                      =   5.4626e-16\n",
      "NDf                       =            0\n",
      "p0                        =      10917.5   +/-   4072.21     \n",
      "p1                        =     -125.401   +/-   47.0852     \n",
      "p2                        =     0.360077   +/-   0.136083    \n"
     ]
    },
    {
     "data": {
      "image/png": "[encoded data removed]",
      "text/plain": [
       "<IPython.core.display.Image object>"
      ]
     },
     "metadata": {},
     "output_type": "display_data"
    }
   ],
   "source": [
    "my_fit.compute_chi2()"
   ]
  },
  {
   "cell_type": "code",
   "execution_count": 6,
   "metadata": {
    "collapsed": false
   },
   "outputs": [
    {
     "name": "stdout",
     "output_type": "stream",
     "text": [
      "result: m = 174.130136976 +/- 1.66648832745\n"
     ]
    }
   ],
   "source": [
    "my_fit.print_result()"
   ]
  },
  {
   "cell_type": "code",
   "execution_count": null,
   "metadata": {
    "collapsed": true
   },
   "outputs": [],
   "source": []
  }
 ],
 "metadata": {
  "kernelspec": {
   "display_name": "Python 2",
   "language": "python",
   "name": "python2"
  },
  "language_info": {
   "codemirror_mode": {
    "name": "ipython",
    "version": 2
   },
   "file_extension": ".py",
   "mimetype": "text/x-python",
   "name": "python",
   "nbconvert_exporter": "python",
   "pygments_lexer": "ipython2",
   "version": "2.7.11"
  }
 },
 "nbformat": 4,
 "nbformat_minor": 2
}
