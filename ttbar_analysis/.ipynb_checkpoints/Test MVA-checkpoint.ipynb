{
 "cells": [
  {
   "cell_type": "code",
   "execution_count": 3,
   "metadata": {
    "collapsed": false
   },
   "outputs": [],
   "source": [
    "from ROOT import TTree, TFile\n",
    "from utils.ComputeMVA import ComputeMVA"
   ]
  },
  {
   "cell_type": "code",
   "execution_count": 4,
   "metadata": {
    "collapsed": false
   },
   "outputs": [
    {
     "ename": "AttributeError",
     "evalue": "'TObject' object has no attribute 'CopyTree'",
     "output_type": "error",
     "traceback": [
      "\u001b[1;31m---------------------------------------------------------------------------\u001b[0m",
      "\u001b[1;31mAttributeError\u001b[0m                            Traceback (most recent call last)",
      "\u001b[1;32m<ipython-input-4-4a63c7c6bfff>\u001b[0m in \u001b[0;36m<module>\u001b[1;34m()\u001b[0m\n\u001b[0;32m      6\u001b[0m \u001b[1;33m\u001b[0m\u001b[0m\n\u001b[0;32m      7\u001b[0m \u001b[0maux_file\u001b[0m \u001b[1;33m=\u001b[0m \u001b[0mTFile\u001b[0m\u001b[1;33m(\u001b[0m\u001b[1;34m\"./aux_tree.root\"\u001b[0m\u001b[1;33m,\u001b[0m \u001b[1;34m\"RECREATE\"\u001b[0m\u001b[1;33m)\u001b[0m \u001b[1;31m# it is required by ROOT\u001b[0m\u001b[1;33m\u001b[0m\u001b[0m\n\u001b[1;32m----> 8\u001b[1;33m \u001b[0mmy_mva\u001b[0m \u001b[1;33m=\u001b[0m \u001b[0mComputeMVA\u001b[0m\u001b[1;33m(\u001b[0m\u001b[0mmy_tree\u001b[0m\u001b[1;33m.\u001b[0m\u001b[0mCopyTree\u001b[0m\u001b[1;33m(\u001b[0m\u001b[1;34m\"quark_type <= 4\"\u001b[0m\u001b[1;33m)\u001b[0m\u001b[1;33m,\u001b[0m \u001b[0mmy_tree\u001b[0m\u001b[1;33m.\u001b[0m\u001b[0mCopyTree\u001b[0m\u001b[1;33m(\u001b[0m\u001b[1;34m\"quark_type == 5\"\u001b[0m\u001b[1;33m)\u001b[0m\u001b[1;33m,\u001b[0m \u001b[0mvariables\u001b[0m\u001b[1;33m)\u001b[0m\u001b[1;33m\u001b[0m\u001b[0m\n\u001b[0m",
      "\u001b[1;31mAttributeError\u001b[0m: 'TObject' object has no attribute 'CopyTree'"
     ]
    },
    {
     "name": "stderr",
     "output_type": "stream",
     "text": [
      "Error in <TFile::TFile>: file ../02_b_tagging/18_without_beampipe_simple_ILD/ntuple/qq_ILD_spIP/analyzers.ZqqIPJetsTreeProducer.ZqqIPJetsTreeProducer_1/tree.root does not exist\r\n"
     ]
    }
   ],
   "source": [
    "my_file = TFile(\"../02_b_tagging/18_without_beampipe_simple_ILD/ntuple/qq_ILD_spIP/analyzers.ZqqIPJetsTreeProducer.ZqqIPJetsTreeProducer_1/tree.root\",\"OPEN\")\n",
    "\n",
    "my_tree = my_file.Get(\"events\")\n",
    "\n",
    "variables = [\"jet_logbtag\", \"jet_m_inv_signif_larger3\", \"jet_n_signif_larger3\", \"jet_angle_wrt_jet_dir_larger3\"]\n",
    "\n",
    "aux_file = TFile(\"./aux_tree.root\", \"RECREATE\") # it is required by ROOT\n",
    "my_mva = ComputeMVA(my_tree.CopyTree(\"quark_type <= 4\"), my_tree.CopyTree(\"quark_type == 5\"), variables)"
   ]
  },
  {
   "cell_type": "code",
   "execution_count": null,
   "metadata": {
    "collapsed": true
   },
   "outputs": [],
   "source": []
  }
 ],
 "metadata": {
  "kernelspec": {
   "display_name": "Python 2",
   "language": "python",
   "name": "python2"
  },
  "language_info": {
   "codemirror_mode": {
    "name": "ipython",
    "version": 2
   },
   "file_extension": ".py",
   "mimetype": "text/x-python",
   "name": "python",
   "nbconvert_exporter": "python",
   "pygments_lexer": "ipython2",
   "version": "2.7.11"
  }
 },
 "nbformat": 4,
 "nbformat_minor": 0
}
