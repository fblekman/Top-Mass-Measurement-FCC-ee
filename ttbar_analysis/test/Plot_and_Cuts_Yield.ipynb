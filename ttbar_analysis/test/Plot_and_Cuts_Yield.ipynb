{
 "cells": [
  {
   "cell_type": "markdown",
   "metadata": {},
   "source": [
    "# DataSet class and plotting tools"
   ]
  },
  {
   "cell_type": "code",
   "execution_count": 1,
   "metadata": {
    "collapsed": false
   },
   "outputs": [
    {
     "data": {
      "application/javascript": [
       "require(['codemirror/mode/clike/clike'], function(Clike) { console.log('ROOTaaS - C++ CodeMirror module loaded'); });"
      ]
     },
     "metadata": {},
     "output_type": "display_data"
    },
    {
     "data": {
      "application/javascript": [
       "IPython.CodeCell.config_defaults.highlight_modes['magic_text/x-c++src'] = {'reg':[/^%%cpp/]};"
      ]
     },
     "metadata": {},
     "output_type": "display_data"
    },
    {
     "name": "stdout",
     "output_type": "stream",
     "text": [
      "Welcome to ROOTaaS 6.06/00\n"
     ]
    },
    {
     "ename": "ImportError",
     "evalue": "No module named ttbarDataDictionaries",
     "output_type": "error",
     "traceback": [
      "\u001b[1;31m---------------------------------------------------------------------------\u001b[0m",
      "\u001b[1;31mImportError\u001b[0m                               Traceback (most recent call last)",
      "\u001b[1;32m<ipython-input-1-8f31a7e6be15>\u001b[0m in \u001b[0;36m<module>\u001b[1;34m()\u001b[0m\n\u001b[0;32m      5\u001b[0m \u001b[1;32mfrom\u001b[0m \u001b[0mplotting_tools\u001b[0m\u001b[1;33m.\u001b[0m\u001b[0mDistributionPlotter\u001b[0m \u001b[1;32mimport\u001b[0m \u001b[0mDistributionPlotter\u001b[0m\u001b[1;33m\u001b[0m\u001b[0m\n\u001b[0;32m      6\u001b[0m \u001b[1;32mfrom\u001b[0m \u001b[0mGetTreeAndEfficiency\u001b[0m \u001b[1;32mimport\u001b[0m \u001b[1;33m*\u001b[0m\u001b[1;33m\u001b[0m\u001b[0m\n\u001b[1;32m----> 7\u001b[1;33m \u001b[1;32mfrom\u001b[0m \u001b[0mttbarDataDictionaries\u001b[0m \u001b[1;32mimport\u001b[0m \u001b[1;33m*\u001b[0m\u001b[1;33m\u001b[0m\u001b[0m\n\u001b[0m",
      "\u001b[1;32m/home/Nick/Software/root-6.06.00/lib/ROOT.pyc\u001b[0m in \u001b[0;36m_importhook\u001b[1;34m(name, *args, **kwds)\u001b[0m\n\u001b[0;32m    299\u001b[0m       \u001b[1;32mexcept\u001b[0m \u001b[0mException\u001b[0m\u001b[1;33m:\u001b[0m\u001b[1;33m\u001b[0m\u001b[0m\n\u001b[0;32m    300\u001b[0m          \u001b[1;32mpass\u001b[0m\u001b[1;33m\u001b[0m\u001b[0m\n\u001b[1;32m--> 301\u001b[1;33m    \u001b[1;32mreturn\u001b[0m \u001b[0m_orig_ihook\u001b[0m\u001b[1;33m(\u001b[0m \u001b[0mname\u001b[0m\u001b[1;33m,\u001b[0m \u001b[1;33m*\u001b[0m\u001b[0margs\u001b[0m\u001b[1;33m,\u001b[0m \u001b[1;33m**\u001b[0m\u001b[0mkwds\u001b[0m \u001b[1;33m)\u001b[0m\u001b[1;33m\u001b[0m\u001b[0m\n\u001b[0m\u001b[0;32m    302\u001b[0m \u001b[1;33m\u001b[0m\u001b[0m\n\u001b[0;32m    303\u001b[0m \u001b[0m__builtin__\u001b[0m\u001b[1;33m.\u001b[0m\u001b[0m__import__\u001b[0m \u001b[1;33m=\u001b[0m \u001b[0m_importhook\u001b[0m\u001b[1;33m\u001b[0m\u001b[0m\n",
      "\u001b[1;31mImportError\u001b[0m: No module named ttbarDataDictionaries"
     ]
    }
   ],
   "source": [
    "from numpy import genfromtxt\n",
    "from ROOT import TFile\n",
    "from plotting_tools.DataSet import DataSet\n",
    "from plotting_tools.CutsYieldPrinter import CutsYieldPrinter\n",
    "from plotting_tools.DistributionPlotter import DistributionPlotter\n",
    "from ttbar_analysis.plot_script.GetTreeAndEfficiency import *\n",
    "from ttbar_analysis.plot_script.ttbarDataDictionaries import *"
   ]
  },
  {
   "cell_type": "code",
   "execution_count": null,
   "metadata": {
    "collapsed": false
   },
   "outputs": [],
   "source": [
    "help(DataSet)"
   ]
  },
  {
   "cell_type": "code",
   "execution_count": null,
   "metadata": {
    "collapsed": true
   },
   "outputs": [],
   "source": [
    "detector = \"ILD\"\n",
    "luminosity = 1000.\n",
    "\n",
    "# name, legend-name, cross section, generator\n",
    "data_set_names = [\n",
    "                  \"hz\",\n",
    "                  \"zz\",\n",
    "                  \"tt_dilep\",\n",
    "                  \"tt_allhad\",\n",
    "                  \"ww\",\n",
    "                  \"tt_semilep\",\n",
    "                 ]\n"
   ]
  },
  {
   "cell_type": "code",
   "execution_count": 2,
   "metadata": {
    "collapsed": false
   },
   "outputs": [
    {
     "name": "stdout",
     "output_type": "stream",
     "text": [
      "/home/Nick/GitHub/Top-Mass-Measurement-FCC-ee/ttbar_analysis\n"
     ]
    }
   ],
   "source": [
    "cd ~/GitHub/Top-Mass-Measurement-FCC-ee/ttbar_analysis"
   ]
  },
  {
   "cell_type": "code",
   "execution_count": 3,
   "metadata": {
    "collapsed": false
   },
   "outputs": [
    {
     "ename": "NameError",
     "evalue": "name 'data_set_names' is not defined",
     "output_type": "error",
     "traceback": [
      "\u001b[1;31m---------------------------------------------------------------------------\u001b[0m",
      "\u001b[1;31mNameError\u001b[0m                                 Traceback (most recent call last)",
      "\u001b[1;32m<ipython-input-3-e16399190097>\u001b[0m in \u001b[0;36m<module>\u001b[1;34m()\u001b[0m\n\u001b[0;32m      4\u001b[0m \u001b[0mdata_sets\u001b[0m \u001b[1;33m=\u001b[0m \u001b[1;33m[\u001b[0m\u001b[1;33m]\u001b[0m\u001b[1;33m\u001b[0m\u001b[0m\n\u001b[0;32m      5\u001b[0m \u001b[1;33m\u001b[0m\u001b[0m\n\u001b[1;32m----> 6\u001b[1;33m \u001b[1;32mfor\u001b[0m \u001b[0mdata_set_name\u001b[0m \u001b[1;32min\u001b[0m \u001b[0mdata_set_names\u001b[0m\u001b[1;33m:\u001b[0m\u001b[1;33m\u001b[0m\u001b[0m\n\u001b[0m\u001b[0;32m      7\u001b[0m     \u001b[0maux_file\u001b[0m\u001b[1;33m,\u001b[0m \u001b[0maux_tree\u001b[0m \u001b[1;33m=\u001b[0m \u001b[0mget_tree\u001b[0m\u001b[1;33m(\u001b[0m\u001b[0mdata_set_name\u001b[0m\u001b[1;33m)\u001b[0m\u001b[1;33m\u001b[0m\u001b[0m\n\u001b[0;32m      8\u001b[0m     \u001b[0maux_efficiency\u001b[0m \u001b[1;33m=\u001b[0m \u001b[0mget_efficiency\u001b[0m\u001b[1;33m(\u001b[0m\u001b[0mdata_set_name\u001b[0m\u001b[1;33m)\u001b[0m\u001b[1;33m\u001b[0m\u001b[0m\n",
      "\u001b[1;31mNameError\u001b[0m: name 'data_set_names' is not defined"
     ]
    }
   ],
   "source": [
    "root_files = []\n",
    "trees = []\n",
    "efficiencies = []\n",
    "data_sets = []\n",
    "\n",
    "for data_set_name in data_set_names:\n",
    "    aux_file, aux_tree = get_tree(data_set_name)\n",
    "    aux_efficiency = get_efficiency(data_set_name)\n",
    "    root_files.append(aux_file)\n",
    "    trees.append(aux_tree)\n",
    "    efficiencies.append(aux_efficiency)\n",
    "    new_data_set = DataSet(aux_tree,\n",
    "                       data_set_name,\n",
    "                       legend_names[data_set_name],\n",
    "                       cross_sections[data_set_name],\n",
    "                       luminosity,\n",
    "                       generators[data_set_name], \n",
    "                       aux_efficiency)\n",
    "    data_sets.append( new_data_set )"
   ]
  },
  {
   "cell_type": "markdown",
   "metadata": {},
   "source": [
    "## DataSet, store relevant information about a sample, with methods to get the yield of a cut and the expected number of events"
   ]
  },
  {
   "cell_type": "code",
   "execution_count": null,
   "metadata": {
    "collapsed": false
   },
   "outputs": [],
   "source": [
    "print data_sets[0]\n",
    "sample = data_sets[0]"
   ]
  },
  {
   "cell_type": "code",
   "execution_count": null,
   "metadata": {
    "collapsed": false
   },
   "outputs": [],
   "source": [
    "cut = \"\"\n",
    "print sample.efficiency\n",
    "print sample.n_entries\n",
    "print sample.cut_efficiency(cut)\n",
    "print sample.n_generated_with_eff(cut)\n",
    "print sample.n_generated(cut)\n",
    "print sample.n_expected_with_eff(cut)\n",
    "print sample.n_expected(cut)"
   ]
  },
  {
   "cell_type": "code",
   "execution_count": null,
   "metadata": {
    "collapsed": false
   },
   "outputs": [],
   "source": [
    "cut = \"lep1_e > 30\"\n",
    "print sample.efficiency\n",
    "print sample.n_entries\n",
    "print sample.cut_efficiency(cut)\n",
    "print sample.n_generated_with_eff(cut)\n",
    "print sample.n_generated(cut)\n",
    "print sample.n_expected_with_eff(cut)\n",
    "print sample.n_expected(cut)"
   ]
  },
  {
   "cell_type": "code",
   "execution_count": null,
   "metadata": {
    "collapsed": true
   },
   "outputs": [],
   "source": [
    "cuts = []\n",
    "cuts.append(\"four_jets_mass > 150\")\n",
    "cuts.append(\"four_jets_mass < 270\")\n",
    "cuts.append(\"min_jets_mass > 10\")\n",
    "cuts.append(\"min_jets_mass < 90\")\n",
    "cuts.append(\"second_min_jets_mass > 20\")\n",
    "cuts.append(\"second_min_jets_mass < 100\")\n",
    "cuts.append(\"lep1_e < 100\")\n",
    "cuts.append(\"missing_rec_e > 20\")\n",
    "cuts.append(\"missing_rec_e < 150\")\n",
    "cuts.append(\"n_rec_charged >= 20\")\n",
    "cuts.append(\"n_rec_charged >= 10\")\n",
    "cuts.append(\"chi2_top_constrainer <= 40\")\n",
    "cuts.append(\"success == 1\")"
   ]
  },
  {
   "cell_type": "markdown",
   "metadata": {},
   "source": [
    "## CutsYieldPrinter class: \n",
    "- base class to print tables and LaTeX tables with the yields of the cuts\n",
    "- can be constructed with a list of datasets and a list of cuts"
   ]
  },
  {
   "cell_type": "code",
   "execution_count": null,
   "metadata": {
    "collapsed": false
   },
   "outputs": [],
   "source": [
    "aux_caption = \"Selection cuts yields\"\n",
    "ttbar_yields_printer = CutsYieldPrinter(data_sets, cuts, aux_caption)"
   ]
  },
  {
   "cell_type": "code",
   "execution_count": null,
   "metadata": {
    "collapsed": false
   },
   "outputs": [],
   "source": [
    "ttbar_yields_printer.PrintTable()"
   ]
  },
  {
   "cell_type": "code",
   "execution_count": null,
   "metadata": {
    "collapsed": false
   },
   "outputs": [],
   "source": [
    "ttbar_yields_printer.PrintLatex()"
   ]
  },
  {
   "cell_type": "markdown",
   "metadata": {},
   "source": [
    "## DistributionPlotter Class:\n",
    "- base plotting class with plenty of options to plot variables:\n",
    "- can be constructed with a list of datasets "
   ]
  },
  {
   "cell_type": "code",
   "execution_count": null,
   "metadata": {
    "collapsed": false,
    "scrolled": false
   },
   "outputs": [],
   "source": [
    "four_jets_mass = DistributionPlotter(\"four_jets_mass\",\n",
    "                                     \"\",\n",
    "                                     \"four_jets_mass_{}\".format(detector),\n",
    "                                     48, 0, 340,\n",
    "                                     \"Hadronic Mass @{}\".format(detector),\n",
    "                                     \"hadronic mass [GeV]\", \"GeV\",\n",
    "                                     norm = False,\n",
    "                                     logy = True,\n",
    "                                     stack = True,\n",
    "                                     set_title = True)\n",
    "four_jets_mass.add_dataset_list(data_sets)\n",
    "four_jets_mass.canvas.Draw()"
   ]
  },
  {
   "cell_type": "code",
   "execution_count": null,
   "metadata": {
    "collapsed": false
   },
   "outputs": [],
   "source": [
    "missing_e_rec = DistributionPlotter(\"missing_rec_e\",\n",
    "                                     \"four_jets_mass > 150\",\n",
    "                                     \"missing_rec_e{}\".format(detector),\n",
    "                                     48, -50, 200,\n",
    "                                     \"Missing Energy @{}\".format(detector),\n",
    "                                     \"missing energy [GeV]\", \"GeV\",\n",
    "                                     norm = True,\n",
    "                                     logy = False,\n",
    "                                     stack = False,\n",
    "                                     set_title = False)\n",
    "missing_e_rec.add_dataset_list(data_sets)\n",
    "missing_e_rec.canvas.Draw()"
   ]
  },
  {
   "cell_type": "code",
   "execution_count": null,
   "metadata": {
    "collapsed": true
   },
   "outputs": [],
   "source": []
  }
 ],
 "metadata": {
  "kernelspec": {
   "display_name": "Python 2",
   "language": "python",
   "name": "python2"
  },
  "language_info": {
   "codemirror_mode": {
    "name": "ipython",
    "version": 2
   },
   "file_extension": ".py",
   "mimetype": "text/x-python",
   "name": "python",
   "nbconvert_exporter": "python",
   "pygments_lexer": "ipython2",
   "version": "2.7.11"
  }
 },
 "nbformat": 4,
 "nbformat_minor": 0
}
