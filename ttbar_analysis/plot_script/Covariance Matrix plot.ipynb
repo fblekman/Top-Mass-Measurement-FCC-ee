{
 "cells": [
  {
   "cell_type": "code",
   "execution_count": 1,
   "metadata": {
    "collapsed": false
   },
   "outputs": [
    {
     "data": {
      "application/javascript": [
       "require(['codemirror/mode/clike/clike'], function(Clike) { console.log('ROOTaaS - C++ CodeMirror module loaded'); });"
      ]
     },
     "metadata": {},
     "output_type": "display_data"
    },
    {
     "data": {
      "application/javascript": [
       "IPython.CodeCell.config_defaults.highlight_modes['magic_text/x-c++src'] = {'reg':[/^%%cpp/]};"
      ]
     },
     "metadata": {},
     "output_type": "display_data"
    },
    {
     "name": "stdout",
     "output_type": "stream",
     "text": [
      "Welcome to ROOTaaS 6.06/00\n"
     ]
    }
   ],
   "source": [
    "import numpy as np\n",
    "from ROOT import TEllipse, TCanvas, TGraph, TLegend\n",
    "\n",
    "class CovarianceMatrix2DContourPlot(object):\n",
    "    \"\"\"\n",
    "\n",
    "    TODO: extend the class to plot more than one covariance_matrix!\n",
    "    \"\"\"\n",
    "\n",
    "    def __init__(self, mean, covariance_matrix, args = dict(sigma = 1)):\n",
    "        \"\"\" \"\"\"\n",
    "        self.mean = mean\n",
    "        self.covariance_matrix = covariance_matrix\n",
    "        self.args = args\n",
    "\n",
    "        if len(self.args) != 1:\n",
    "            print \"args length different than 1\"\n",
    "            return\n",
    "\n",
    "        if 'sigma' in self.args:\n",
    "            self.sigma = self.args['sigma']\n",
    "            self.k = self.sigma\n",
    "        elif 'probability' in self.args:\n",
    "            self.probability = self.args['probability']\n",
    "            self.k = np.sqrt(-2 * np.log(1 - self.probability))\n",
    "        else:\n",
    "            print \"neither 'sigma' nor 'probability' in args\"\n",
    "            return\n",
    "\n",
    "        self.secondDerivativeMatrix = np.linalg.inv(self.covarianceMatrix)\n",
    "\n",
    "        self.eigenvals, self.eigenvecs = np.linalg.eig(self.secondDerivativeMatrix)\n",
    "        self.lambd = np.sqrt(self.eigenvals)\n",
    "        self.angle = np.rad2deg(np.arctan(self.eigenvecs[1,0]/self.eigenvecs[0,0]))\n",
    "\n",
    "        self.ellipse = TEllipse(self.mean[0], self.mean[1], self.k/self.lambd[0], self.k/self.lambd[1], 0., 360., self.angle)\n",
    "        self.ellipse.SetFillStyle(0)\n",
    "        self.ellipse.SetLineColor(2)\n",
    "        self.ellipse.SetLineWidth(4)\n",
    "\n",
    "        self.scale = max(self.k/self.lambd[0], self.k/self.lambd[1])"
   ]
  },
  {
   "cell_type": "code",
   "execution_count": 2,
   "metadata": {
    "collapsed": true
   },
   "outputs": [],
   "source": [
    "def CombineCovarianceMatrices(covariance_matrix_list):\n",
    "    \"\"\"Combine two covariance matrices.\n",
    "\n",
    "    The arguments must be numpy 2-D array.\n",
    "    \"\"\"\n",
    "    inverse_matrices = []\n",
    "    for covariance_matrix in covariance_matrix_list:\n",
    "        inverse_matrices.append( np.linalg.inv(covariance_matrix) )\n",
    "\n",
    "    alpha = sum(inverse_matrices)\n",
    "    inverse_alpha = np.linalg.inv(alpha)\n",
    "    return inverse_alpha\n",
    "\n",
    "def RotateCovarianceMatrix(covariance_matrix, rotation_matrix):\n",
    "    rotation_matrix_tr = np.transpose(rotation_matrix)\n",
    "    second_der_matrix = np.linalg.inv(covariance_matrix)\n",
    "    second_der_matrix_rotated = rotation_matrix_tr * second_der_matrix * rotation_matrix\n",
    "    covariance_matrix_rotated = np.linalg.inv(second_der_matrix_rotated)\n",
    "    return covariance_matrix_rotated"
   ]
  },
  {
   "cell_type": "code",
   "execution_count": 3,
   "metadata": {
    "collapsed": false
   },
   "outputs": [
    {
     "name": "stdout",
     "output_type": "stream",
     "text": [
      "sin cos = 0.2315 0.876641317758\n",
      "Az, Bz = 0.218257261502 0.570358697305\n"
     ]
    }
   ],
   "source": [
    "sin2_theta_w = 0.2315\n",
    "cos_theta_w = np.sqrt(1.-sin2_theta_w)\n",
    "\n",
    "print \"sin cos =\", sin2_theta_w, cos_theta_w\n",
    "\n",
    "Az = (0.5/cos_theta_w)*(1.-(8./3.)*sin2_theta_w)\n",
    "Bz = (0.5/cos_theta_w)\n",
    "print \"Az, Bz =\", Az, Bz"
   ]
  },
  {
   "cell_type": "code",
   "execution_count": 4,
   "metadata": {
    "collapsed": false
   },
   "outputs": [],
   "source": [
    "cova_mu = np.matrix([[  5.64825023e-06,   1.10998336e-05], [  1.10998336e-05,   4.25637322e-04]])\n",
    "cova_el = np.matrix([[  7.67813611e-06,   1.14758001e-05], [  1.14758001e-05,   5.56975008e-04]])\n",
    "\n",
    "rotation_matrix = np.matrix([[ (Az+Bz)/2,  (Az-Bz)/2],[  (Az+Bz)/2, (-1)*(Az-Bz)/2]])"
   ]
  },
  {
   "cell_type": "code",
   "execution_count": 6,
   "metadata": {
    "collapsed": false
   },
   "outputs": [],
   "source": [
    "total_covariance_matrix = CombineCovarianceMatrices([cova_mu, cova_el])\n",
    "total_covariance_matrix_rotated = RotateCovarianceMatrix(total_covariance_matrix, rotation_matrix)"
   ]
  },
  {
   "cell_type": "code",
   "execution_count": null,
   "metadata": {
    "collapsed": true
   },
   "outputs": [],
   "source": []
  }
 ],
 "metadata": {
  "kernelspec": {
   "display_name": "Python 2",
   "language": "python",
   "name": "python2"
  },
  "language_info": {
   "codemirror_mode": {
    "name": "ipython",
    "version": 2
   },
   "file_extension": ".py",
   "mimetype": "text/x-python",
   "name": "python",
   "nbconvert_exporter": "python",
   "pygments_lexer": "ipython2",
   "version": "2.7.11"
  }
 },
 "nbformat": 4,
 "nbformat_minor": 0
}
