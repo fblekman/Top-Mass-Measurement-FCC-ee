{
 "cells": [
  {
   "cell_type": "code",
   "execution_count": 1,
   "metadata": {
    "collapsed": true
   },
   "outputs": [],
   "source": [
    "class DataSet(object):\n",
    "    \"\"\"Store data sample with methods to obtain the rescaled number of events,\n",
    "    and the fraction that passes a given cut.\n",
    "\n",
    "    TODO: add methods to obtain directly the number of events expected after rescaling\n",
    "    with a given cut.\n",
    "    \"\"\"\n",
    "\n",
    "    def __init__(self, tree, name, legend_name, cross_section, luminosity, generator = None, efficiency = None):\n",
    "        self.tree = tree\n",
    "        self.name = name\n",
    "        self.legend_name = legend_name\n",
    "        self.cross_section = cross_section\n",
    "        self.luminosity = luminosity\n",
    "        self.generator = generator\n",
    "\n",
    "        if efficiency == None:\n",
    "            self.efficiency = 1.\n",
    "        else:\n",
    "            self.efficiency = efficiency\n",
    "\n",
    "        self.n_gen_with_eff = self.tree.GetEntries()\n",
    "        self.n_gen = int( float(self.n_gen_with_eff) / self.efficiency )\n",
    "\n",
    "        self.n_event_with_eff = int( self.cross_section * self.luminosity * self.efficiency )\n",
    "        self.n_event = int( self.cross_section * self.luminosity )\n",
    "\n",
    "    def cut_efficiency(self, cut):\n",
    "        \"\"\"Fraction of events passing a given cut\"\"\"\n",
    "        return float(self.tree.GetEntries(cut) ) / self.n_gen_with_eff\n",
    "    \n",
    "    def"
   ]
  },
  {
   "cell_type": "code",
   "execution_count": null,
   "metadata": {
    "collapsed": true
   },
   "outputs": [],
   "source": []
  }
 ],
 "metadata": {
  "kernelspec": {
   "display_name": "Python 2",
   "language": "python",
   "name": "python2"
  },
  "language_info": {
   "codemirror_mode": {
    "name": "ipython",
    "version": 2
   },
   "file_extension": ".py",
   "mimetype": "text/x-python",
   "name": "python",
   "nbconvert_exporter": "python",
   "pygments_lexer": "ipython2",
   "version": "2.7.11"
  }
 },
 "nbformat": 4,
 "nbformat_minor": 0
}
