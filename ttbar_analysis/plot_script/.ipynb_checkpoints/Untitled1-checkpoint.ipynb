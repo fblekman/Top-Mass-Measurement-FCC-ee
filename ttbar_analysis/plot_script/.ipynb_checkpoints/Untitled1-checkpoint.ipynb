{
 "cells": [
  {
   "cell_type": "code",
   "execution_count": 1,
   "metadata": {
    "collapsed": true
   },
   "outputs": [],
   "source": [
    "names = [\n",
    "    [\"hz\", \"HZ inclusive\", 130., \"Pythia8\"],\n",
    "    [\"zz\", \"ZZ inclusive\", 500., \"Pythia8\"],\n",
    "    [\"tt_dilep\", \"t #bar{t} di-lepton\", 750.*0.09, \"Pythia8\"],\n",
    "    [\"tt_allhad\", \"t #bar{t} all-hadronic\", 750.*0.46, \"Pythia8\"],\n",
    "    [\"ww\", \"WW inclusive\", 5000., \"Pythia8\"],\n",
    "    [\"tt_semilep\", \"t #bar{t} single-lepton\", 750.*0.45, \"Madgraph\"],\n",
    "]"
   ]
  },
  {
   "cell_type": "code",
   "execution_count": 11,
   "metadata": {
    "collapsed": false
   },
   "outputs": [
    {
     "name": "stdout",
     "output_type": "stream",
     "text": [
      "legend_names = {'hz': 'HZ inclusive', 'tt_semilep': 't #bar{t} single-lepton', 'ww': 'WW inclusive', 'tt_dilep': 't #bar{t} di-lepton', 'tt_allhad': 't #bar{t} all-hadronic', 'zz': 'ZZ inclusive'}\n",
      "{'hz': 130.0, 'tt_semilep': 337.5, 'ww': 5000.0, 'tt_dilep': 67.5, 'tt_allhad': 345.0, 'zz': 500.0}\n",
      "{'hz': 'Pythia8', 'tt_semilep': 'Madgraph', 'ww': 'Pythia8', 'tt_dilep': 'Pythia8', 'tt_allhad': 'Pythia8', 'zz': 'Pythia8'}\n"
     ]
    }
   ],
   "source": [
    "legend_names = {x[0]: x[1] for x in names}\n",
    "print \"legend_names =\", legend_names\n",
    "cross_sections = {x[0]: x[2] for x in names}\n",
    "print cross_sections\n",
    "generators = {x[0]: x[3] for x in names}\n",
    "print generators"
   ]
  },
  {
   "cell_type": "code",
   "execution_count": 8,
   "metadata": {
    "collapsed": true
   },
   "outputs": [],
   "source": [
    "new_dict = {'hz': 'HZ inclusive', 'tt_semilep': 't #bar{t} single-lepton', 'ww': 'WW inclusive', 'tt_dilep': 't #bar{t} di-lepton', 'tt_allhad': 't #bar{t} all-hadronic', 'zz': 'ZZ inclusive'}"
   ]
  },
  {
   "cell_type": "code",
   "execution_count": 5,
   "metadata": {
    "collapsed": false
   },
   "outputs": [
    {
     "data": {
      "text/plain": [
       "dict"
      ]
     },
     "execution_count": 5,
     "metadata": {},
     "output_type": "execute_result"
    }
   ],
   "source": [
    "type(new_dict)"
   ]
  },
  {
   "cell_type": "code",
   "execution_count": 7,
   "metadata": {
    "collapsed": false
   },
   "outputs": [
    {
     "data": {
      "text/plain": [
       "'HZ inclusive'"
      ]
     },
     "execution_count": 7,
     "metadata": {},
     "output_type": "execute_result"
    }
   ],
   "source": []
  },
  {
   "cell_type": "code",
   "execution_count": null,
   "metadata": {
    "collapsed": true
   },
   "outputs": [],
   "source": []
  }
 ],
 "metadata": {
  "kernelspec": {
   "display_name": "Python 2",
   "language": "python",
   "name": "python2"
  },
  "language_info": {
   "codemirror_mode": {
    "name": "ipython",
    "version": 2
   },
   "file_extension": ".py",
   "mimetype": "text/x-python",
   "name": "python",
   "nbconvert_exporter": "python",
   "pygments_lexer": "ipython2",
   "version": "2.7.11"
  }
 },
 "nbformat": 4,
 "nbformat_minor": 0
}
