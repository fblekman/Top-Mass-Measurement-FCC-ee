{
 "cells": [
  {
   "cell_type": "code",
   "execution_count": 1,
   "metadata": {
    "collapsed": false
   },
   "outputs": [
    {
     "data": {
      "application/javascript": [
       "require(['codemirror/mode/clike/clike'], function(Clike) { console.log('ROOTaaS - C++ CodeMirror module loaded'); });"
      ]
     },
     "metadata": {},
     "output_type": "display_data"
    },
    {
     "data": {
      "application/javascript": [
       "IPython.CodeCell.config_defaults.highlight_modes['magic_text/x-c++src'] = {'reg':[/^%%cpp/]};"
      ]
     },
     "metadata": {},
     "output_type": "display_data"
    },
    {
     "name": "stdout",
     "output_type": "stream",
     "text": [
      "Welcome to ROOTaaS 6.06/00\n"
     ]
    }
   ],
   "source": [
    "from numpy import genfromtxt\n",
    "from ROOT import TFile\n",
    "from plotting_tools.DataSet import DataSet\n",
    "from plotting_tools.CutsYieldPrinter import CutsYieldPrinter\n",
    "from plotting_tools.DistributionPlotter import DistributionPlotter\n",
    "from GetTreeAndEfficiency import *"
   ]
  },
  {
   "cell_type": "code",
   "execution_count": 2,
   "metadata": {
    "collapsed": true
   },
   "outputs": [],
   "source": [
    "detector = \"ILD\"\n",
    "luminosity = 1000.\n",
    "\n",
    "# name, legend-name, cross section, generator\n",
    "names = [\n",
    "    [\"hz\", \"HZ inclusive\", 130., \"Pythia8\"],\n",
    "    [\"zz\", \"ZZ inclusive\", 500., \"Pythia8\"],\n",
    "    [\"tt_dilep\", \"t #bar{t} di-lepton\", 750.*0.09, \"Pythia8\"],\n",
    "    [\"tt_allhad\", \"t #bar{t} all-hadronic\", 750.*0.46, \"Pythia8\"],\n",
    "    [\"ww\", \"WW inclusive\", 5000., \"Pythia8\"],\n",
    "    [\"tt_semilep\", \"t #bar{t} single-lepton\", 750.*0.45, \"Madgraph\"],\n",
    "]\n"
   ]
  },
  {
   "cell_type": "code",
   "execution_count": 6,
   "metadata": {
    "collapsed": false
   },
   "outputs": [
    {
     "name": "stdout",
     "output_type": "stream",
     "text": [
      "/home/Nick/GitHub/Top-Mass-Measurement-FCC-ee/ttbar_analysis\n"
     ]
    }
   ],
   "source": [
    "cd .."
   ]
  },
  {
   "cell_type": "code",
   "execution_count": 7,
   "metadata": {
    "collapsed": false
   },
   "outputs": [],
   "source": [
    "root_files = []\n",
    "trees = []\n",
    "efficiencies = []\n",
    "data_sets = []\n",
    "\n",
    "for name in names:\n",
    "    aux_file, aux_tree = get_tree(name[0])\n",
    "    aux_efficiency = get_efficiency(name[0])\n",
    "    root_files.append(aux_file)\n",
    "    trees.append(aux_tree)\n",
    "    efficiencies.append(aux_efficiency)\n",
    "    new_data_set = DataSet(aux_tree, name[0], name[1], name[2], luminosity, name[3], aux_efficiency)\n",
    "    data_sets.append( new_data_set )"
   ]
  },
  {
   "cell_type": "code",
   "execution_count": 8,
   "metadata": {
    "collapsed": true
   },
   "outputs": [],
   "source": [
    "cuts = []\n",
    "cuts.append(\"four_jets_mass > 150\")\n",
    "cuts.append(\"four_jets_mass < 270\")\n",
    "cuts.append(\"min_jets_mass > 10\")\n",
    "cuts.append(\"min_jets_mass < 90\")\n",
    "cuts.append(\"second_min_jets_mass > 20\")\n",
    "cuts.append(\"second_min_jets_mass < 100\")\n",
    "cuts.append(\"lep1_e < 100\")\n",
    "cuts.append(\"missing_rec_e > 20\")\n",
    "cuts.append(\"missing_rec_e < 150\")\n",
    "cuts.append(\"n_rec_charged >= 20\")\n",
    "cuts.append(\"n_rec_charged >= 10\")\n",
    "cuts.append(\"chi2_top_constrainer <= 40\")\n",
    "cuts.append(\"success == 1\")"
   ]
  },
  {
   "cell_type": "code",
   "execution_count": 9,
   "metadata": {
    "collapsed": true
   },
   "outputs": [],
   "source": [
    "aux_caption = \"Selection cuts yields\"\n",
    "ttbar_yields_printer = CutsYieldPrinter(data_sets, cuts, aux_caption)"
   ]
  },
  {
   "cell_type": "code",
   "execution_count": 10,
   "metadata": {
    "collapsed": false
   },
   "outputs": [
    {
     "name": "stdout",
     "output_type": "stream",
     "text": [
      "Dataset\thz\tzz\ttt_dilep\ttt_allhad\tww\ttt_semilep\n",
      "Generator\tPythia8\tPythia8\tPythia8\tPythia8\tPythia8\tMadgraph\n",
      "Generated events\t47625\t47889\t49306\t4800\t28511\t9687\n",
      "four_jets_mass > 150\t4756\t1555\t2427\t372\t423\t6277\n",
      "four_jets_mass < 270\t3044\t892\t2427\t25\t320\t6269\n",
      "min_jets_mass > 10\t2914\t737\t1905\t25\t235\t6268\n",
      "min_jets_mass < 90\t2914\t737\t1905\t25\t235\t6267\n",
      "second_min_jets_mass > 20\t2871\t702\t1635\t25\t202\t6266\n",
      "second_min_jets_mass < 100\t2866\t702\t1635\t23\t202\t6262\n",
      "lep1_e < 100\t2756\t630\t1635\t23\t170\t6260\n",
      "missing_rec_e > 20\t2694\t573\t1635\t23\t170\t6260\n",
      "missing_rec_e < 150\t2667\t557\t1571\t23\t167\t6253\n",
      "n_rec_charged >= 20\t2418\t427\t1383\t23\t100\t6245\n",
      "n_rec_charged >= 10\t2418\t427\t1383\t23\t100\t6245\n",
      "chi2_top_constrainer <= 40\t2259\t375\t1374\t20\t96\t6238\n",
      "success == 1\t1332\t186\t521\t14\t51\t5325\n",
      "\n",
      "\n",
      "\n",
      "\n"
     ]
    }
   ],
   "source": [
    "ttbar_yields_printer.PrintTable()"
   ]
  },
  {
   "cell_type": "code",
   "execution_count": 11,
   "metadata": {
    "collapsed": false
   },
   "outputs": [
    {
     "name": "stdout",
     "output_type": "stream",
     "text": [
      "\\begin{table}\n",
      "\n",
      "\\begin{tabular}{c|c|c|c|c|c|c}\n",
      "\n",
      "Dataset & hz & zz & tt_dilep & tt_allhad & ww & tt_semilep\\\\\n",
      "Generator & Pythia8 & Pythia8 & Pythia8 & Pythia8 & Pythia8 & Madgraph\\\\\n",
      "Generated events & 47625 & 47889 & 49306 & 4800 & 28511 & 9687\\\\\n",
      "four_jets_mass > 150 & 4756 & 1555 & 2427 & 372 & 423 & 6277\\\\\n",
      "four_jets_mass < 270 & 3044 & 892 & 2427 & 25 & 320 & 6269\\\\\n",
      "min_jets_mass > 10 & 2914 & 737 & 1905 & 25 & 235 & 6268\\\\\n",
      "min_jets_mass < 90 & 2914 & 737 & 1905 & 25 & 235 & 6267\\\\\n",
      "second_min_jets_mass > 20 & 2871 & 702 & 1635 & 25 & 202 & 6266\\\\\n",
      "second_min_jets_mass < 100 & 2866 & 702 & 1635 & 23 & 202 & 6262\\\\\n",
      "lep1_e < 100 & 2756 & 630 & 1635 & 23 & 170 & 6260\\\\\n",
      "missing_rec_e > 20 & 2694 & 573 & 1635 & 23 & 170 & 6260\\\\\n",
      "missing_rec_e < 150 & 2667 & 557 & 1571 & 23 & 167 & 6253\\\\\n",
      "n_rec_charged >= 20 & 2418 & 427 & 1383 & 23 & 100 & 6245\\\\\n",
      "n_rec_charged >= 10 & 2418 & 427 & 1383 & 23 & 100 & 6245\\\\\n",
      "chi2_top_constrainer <= 40 & 2259 & 375 & 1374 & 20 & 96 & 6238\\\\\n",
      "success == 1 & 1332 & 186 & 521 & 14 & 51 & 5325\\\\\n",
      "\\end{tabular} \n",
      "\n",
      "\\caption{Selection cuts yields}\n",
      "\n",
      "\\end{table} \n",
      "\n",
      "\n",
      "\n",
      "\n",
      "\n"
     ]
    }
   ],
   "source": [
    "ttbar_yields_printer.PrintLatex()"
   ]
  },
  {
   "cell_type": "code",
   "execution_count": 12,
   "metadata": {
    "collapsed": true
   },
   "outputs": [],
   "source": [
    "distributions = []\n",
    "selection = \" && \".join(cuts)"
   ]
  },
  {
   "cell_type": "code",
   "execution_count": 24,
   "metadata": {
    "collapsed": false
   },
   "outputs": [
    {
     "name": "stderr",
     "output_type": "stream",
     "text": [
      "TCanvas::Constructor:0: RuntimeWarning: Deleting canvas with same name: canvas_four_jets_mass_ILD\n",
      "TFile::Append:0: RuntimeWarning: Replacing existing TH1: h_hz_four_jets_mass_ILD (Potential memory leak).\n",
      "TFile::Append:0: RuntimeWarning: Replacing existing TH1: h_zz_four_jets_mass_ILD (Potential memory leak).\n",
      "TFile::Append:0: RuntimeWarning: Replacing existing TH1: h_tt_dilep_four_jets_mass_ILD (Potential memory leak).\n",
      "TFile::Append:0: RuntimeWarning: Replacing existing TH1: h_tt_allhad_four_jets_mass_ILD (Potential memory leak).\n",
      "TFile::Append:0: RuntimeWarning: Replacing existing TH1: h_ww_four_jets_mass_ILD (Potential memory leak).\n",
      "TFile::Append:0: RuntimeWarning: Replacing existing TH1: h_tt_semilep_four_jets_mass_ILD (Potential memory leak).\n"
     ]
    },
    {
     "data": {
      "image/png": "[encoded data removed]",
      "text/plain": [
       "<IPython.core.display.Image object>"
      ]
     },
     "metadata": {},
     "output_type": "display_data"
    }
   ],
   "source": [
    "four_jets_mass = DistributionPlotter(\"four_jets_mass\",\n",
    "                                     \"\",\n",
    "                                     \"four_jets_mass_{}\".format(detector),\n",
    "                                     48, 0, 340,\n",
    "                                     \"Hadronic Mass @{}\".format(detector),\n",
    "                                     \"hadronic mass [GeV]\", \"GeV\",\n",
    "                                     norm = True,\n",
    "                                     logy = False,\n",
    "                                     stack = True,\n",
    "                                     set_title = False)\n",
    "four_jets_mass.add_dataset_list(data_sets)\n",
    "four_jets_mass.canvas.Draw()"
   ]
  },
  {
   "cell_type": "code",
   "execution_count": null,
   "metadata": {
    "collapsed": true
   },
   "outputs": [],
   "source": []
  },
  {
   "cell_type": "code",
   "execution_count": null,
   "metadata": {
    "collapsed": true
   },
   "outputs": [],
   "source": []
  }
 ],
 "metadata": {
  "kernelspec": {
   "display_name": "Python 2",
   "language": "python",
   "name": "python2"
  },
  "language_info": {
   "codemirror_mode": {
    "name": "ipython",
    "version": 2
   },
   "file_extension": ".py",
   "mimetype": "text/x-python",
   "name": "python",
   "nbconvert_exporter": "python",
   "pygments_lexer": "ipython2",
   "version": "2.7.11"
  }
 },
 "nbformat": 4,
 "nbformat_minor": 0
}
