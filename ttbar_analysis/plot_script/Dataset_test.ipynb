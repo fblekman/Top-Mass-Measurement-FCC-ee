{
 "cells": [
  {
   "cell_type": "code",
   "execution_count": 1,
   "metadata": {
    "collapsed": true
   },
   "outputs": [],
   "source": [
    "class DataSet(object):\n",
    "    \"\"\"Store data sample with methods to obtain the rescaled number of events,\n",
    "    and the fraction that passes a given cut.\n",
    "\n",
    "    TODO: add methods to obtain directly the number of events expected after rescaling\n",
    "    with a given cut.\n",
    "    \"\"\"\n",
    "\n",
    "    def __init__(self, tree, name, legend_name, cross_section, luminosity, generator = None, efficiency = None):\n",
    "        self.tree = tree\n",
    "        self.name = name\n",
    "        self.legend_name = legend_name\n",
    "        self.cross_section = cross_section\n",
    "        self.luminosity = luminosity\n",
    "        self.generator = generator\n",
    "\n",
    "        if efficiency == None:\n",
    "            self.efficiency = 1.\n",
    "        else:\n",
    "            self.efficiency = efficiency\n",
    "\n",
    "        self.n_entries = self.tree.GetEntries()\n",
    "\n",
    "    def cut_efficiency(self, cut):\n",
    "        \"\"\"Fraction of events passing a given cut\"\"\"\n",
    "        return float(self.tree.GetEntries(cut) ) / self.n_entries\n",
    "\n",
    "    def n_generated_with_eff(self, cut = \"\"):\n",
    "        return self.tree.GetEntries(cut)\n",
    "\n",
    "    def n_generated(self, cut = \"\"):\n",
    "        return int( float(self.tree.GetEntries(cut)) / self.efficiency )\n",
    "\n",
    "    def n_expected_with_eff(self, cut = \"\"):\n",
    "        return int( self.cut_efficiency(cut) * self.cross_section * self.luminosity * self.efficiency )\n",
    "\n",
    "    def n_expected(self, cut = \"\"):\n",
    "        return int( self.cut_efficiency(cut) * self.cross_section * self.luminosity )\n"
   ]
  },
  {
   "cell_type": "code",
   "execution_count": 2,
   "metadata": {
    "collapsed": false
   },
   "outputs": [
    {
     "data": {
      "application/javascript": [
       "require(['codemirror/mode/clike/clike'], function(Clike) { console.log('ROOTaaS - C++ CodeMirror module loaded'); });"
      ]
     },
     "metadata": {},
     "output_type": "display_data"
    },
    {
     "data": {
      "application/javascript": [
       "IPython.CodeCell.config_defaults.highlight_modes['magic_text/x-c++src'] = {'reg':[/^%%cpp/]};"
      ]
     },
     "metadata": {},
     "output_type": "display_data"
    },
    {
     "name": "stdout",
     "output_type": "stream",
     "text": [
      "Welcome to ROOTaaS 6.06/00\n"
     ]
    }
   ],
   "source": [
    "from GetTreeAndEfficiency import *"
   ]
  },
  {
   "cell_type": "code",
   "execution_count": 3,
   "metadata": {
    "collapsed": false
   },
   "outputs": [
    {
     "name": "stdout",
     "output_type": "stream",
     "text": [
      "/home/Nick/GitHub/Top-Mass-Measurement-FCC-ee/ttbar_analysis\n"
     ]
    }
   ],
   "source": [
    "cd .."
   ]
  },
  {
   "cell_type": "code",
   "execution_count": 4,
   "metadata": {
    "collapsed": true
   },
   "outputs": [],
   "source": [
    "detector = \"ILD\"\n",
    "luminosity = 1000.\n",
    "\n",
    "# name, legend-name, cross section, generator\n",
    "names = [\n",
    "    [\"hz\", \"HZ inclusive\", 130., \"Pythia8\"],\n",
    "    [\"zz\", \"ZZ inclusive\", 500., \"Pythia8\"],\n",
    "    [\"tt_dilep\", \"t #bar{t} di-lepton\", 750.*0.09, \"Pythia8\"],\n",
    "    [\"tt_allhad\", \"t #bar{t} all-hadronic\", 750.*0.46, \"Pythia8\"],\n",
    "    [\"ww\", \"WW inclusive\", 5000., \"Pythia8\"],\n",
    "    [\"tt_semilep\", \"t #bar{t} single-lepton\", 750.*0.45, \"Madgraph\"],\n",
    "]"
   ]
  },
  {
   "cell_type": "code",
   "execution_count": 5,
   "metadata": {
    "collapsed": false,
    "scrolled": true
   },
   "outputs": [],
   "source": [
    "root_files = []\n",
    "trees = []\n",
    "efficiencies = []\n",
    "data_sets = []\n",
    "\n",
    "for name in names:\n",
    "    aux_file, aux_tree = get_tree(name[0])\n",
    "    aux_efficiency = get_efficiency(name[0])\n",
    "    root_files.append(aux_file)\n",
    "    trees.append(aux_tree)\n",
    "    efficiencies.append(aux_efficiency)\n",
    "    new_data_set = DataSet(aux_tree, name[0], name[1], name[2], luminosity, name[3], aux_efficiency)\n",
    "    data_sets.append( new_data_set )"
   ]
  },
  {
   "cell_type": "code",
   "execution_count": 11,
   "metadata": {
    "collapsed": false
   },
   "outputs": [
    {
     "name": "stdout",
     "output_type": "stream",
     "text": [
      "<__main__.DataSet object at 0x7fed2d9e3f90>\n"
     ]
    }
   ],
   "source": [
    "print data_sets[0]\n",
    "sample = data_sets[0]"
   ]
  },
  {
   "cell_type": "code",
   "execution_count": 14,
   "metadata": {
    "collapsed": false
   },
   "outputs": [
    {
     "name": "stdout",
     "output_type": "stream",
     "text": [
      "0.144\n",
      "6858\n",
      "1.0\n",
      "6858\n",
      "47625\n",
      "18720\n",
      "130000\n"
     ]
    }
   ],
   "source": [
    "cut = \"\"\n",
    "print sample.efficiency\n",
    "print sample.n_entries\n",
    "print sample.cut_efficiency(cut)\n",
    "print sample.n_generated_with_eff(cut)\n",
    "print sample.n_generated(cut)\n",
    "print sample.n_expected_with_eff(cut)\n",
    "print sample.n_expected(cut)"
   ]
  },
  {
   "cell_type": "code",
   "execution_count": 15,
   "metadata": {
    "collapsed": false
   },
   "outputs": [
    {
     "name": "stdout",
     "output_type": "stream",
     "text": [
      "0.144\n",
      "6858\n",
      "0.461213181686\n",
      "3163\n",
      "21965\n",
      "8633\n",
      "59957\n"
     ]
    }
   ],
   "source": [
    "cut = \"lep1_e > 30\"\n",
    "print sample.efficiency\n",
    "print sample.n_entries\n",
    "print sample.cut_efficiency(cut)\n",
    "print sample.n_generated_with_eff(cut)\n",
    "print sample.n_generated(cut)\n",
    "print sample.n_expected_with_eff(cut)\n",
    "print sample.n_expected(cut)"
   ]
  },
  {
   "cell_type": "code",
   "execution_count": null,
   "metadata": {
    "collapsed": true
   },
   "outputs": [],
   "source": []
  }
 ],
 "metadata": {
  "kernelspec": {
   "display_name": "Python 2",
   "language": "python",
   "name": "python2"
  },
  "language_info": {
   "codemirror_mode": {
    "name": "ipython",
    "version": 2
   },
   "file_extension": ".py",
   "mimetype": "text/x-python",
   "name": "python",
   "nbconvert_exporter": "python",
   "pygments_lexer": "ipython2",
   "version": "2.7.11"
  }
 },
 "nbformat": 4,
 "nbformat_minor": 0
}
